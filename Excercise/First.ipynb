{
 "cells": [
  {
   "cell_type": "code",
   "execution_count": 2,
   "id": "5e333ff2-758d-450a-941c-6b99da4604f7",
   "metadata": {},
   "outputs": [
    {
     "name": "stdout",
     "output_type": "stream",
     "text": [
      "Sure, here are three app ideas that leverage Mistral APIs and have the potential to generate revenue:\n",
      "\n",
      "### 1. **AI-Powered Content Creation Assistant**\n",
      "**Description:** An app that helps users create high-quality content such as blog posts, articles, social media posts, and more. The app uses Mistral APIs to generate text based on user prompts, ensuring that the content is engaging and optimized for SEO.\n",
      "\n",
      "**Revenue Model:**\n",
      "- **Subscription Plans:** Offer different tiers of subscription plans with varying levels of access to features and content generation limits.\n",
      "- **Premium Features:** Allow users to purchase add-ons like advanced SEO tools, content optimization suggestions, and personalized writing styles.\n",
      "- **Partnerships:** Collaborate with content marketing agencies and brands to offer bulk discounts and specialized content packages.\n",
      "\n",
      "### 2. **Personalized Learning Companion**\n",
      "**Description:** An educational app that provides personalized learning experiences for students. The app can generate study materials, summaries, and practice questions using Mistral APIs, tailored to the user's learning style and pace.\n",
      "\n",
      "**Revenue Model:**\n",
      "- **Freemium Model:** Offer basic features for free and charge for premium content, advanced analytics, and personalized learning plans.\n",
      "- **In-App Purchases:** Sell additional study materials, practice tests, and one-on-one tutoring sessions.\n",
      "- **Educational Institutions:** Partner with schools and universities to offer the app as a supplementary learning tool, with a subscription fee per student.\n",
      "\n",
      "### 3. **Interactive Storytelling Platform**\n",
      "**Description:** An app that allows users to create and share interactive stories. Users can input story ideas, and the app uses Mistral APIs to generate branching narratives, character development, and plot twists.\n",
      "\n",
      "**Revenue Model:**\n",
      "- **Subscription Plans:** Offer monthly or annual subscriptions for access to advanced storytelling features, unlimited story creation, and community sharing.\n",
      "- **In-App Purchases:** Sell additional story elements, such as custom characters, settings, and special effects.\n",
      "- **Advertising:** Display targeted ads within the app, with options for users to pay for an ad-free experience.\n",
      "\n",
      "These ideas leverage the capabilities of Mistral APIs to provide unique and valuable services to users, while also offering multiple revenue streams to ensure financial sustainability.\n",
      "id='df971b31cbb14ad386c37cbcdf6a63b0' object='chat.completion' model='mistral-large-latest' usage=UsageInfo(prompt_tokens=24, completion_tokens=530, total_tokens=554) created=1741875072 choices=[ChatCompletionChoice(index=0, message=AssistantMessage(content=\"Sure, here are three app ideas that leverage Mistral APIs and have the potential to generate revenue:\\n\\n### 1. **AI-Powered Content Creation Assistant**\\n**Description:** An app that helps users create high-quality content such as blog posts, articles, social media posts, and more. The app uses Mistral APIs to generate text based on user prompts, ensuring that the content is engaging and optimized for SEO.\\n\\n**Revenue Model:**\\n- **Subscription Plans:** Offer different tiers of subscription plans with varying levels of access to features and content generation limits.\\n- **Premium Features:** Allow users to purchase add-ons like advanced SEO tools, content optimization suggestions, and personalized writing styles.\\n- **Partnerships:** Collaborate with content marketing agencies and brands to offer bulk discounts and specialized content packages.\\n\\n### 2. **Personalized Learning Companion**\\n**Description:** An educational app that provides personalized learning experiences for students. The app can generate study materials, summaries, and practice questions using Mistral APIs, tailored to the user's learning style and pace.\\n\\n**Revenue Model:**\\n- **Freemium Model:** Offer basic features for free and charge for premium content, advanced analytics, and personalized learning plans.\\n- **In-App Purchases:** Sell additional study materials, practice tests, and one-on-one tutoring sessions.\\n- **Educational Institutions:** Partner with schools and universities to offer the app as a supplementary learning tool, with a subscription fee per student.\\n\\n### 3. **Interactive Storytelling Platform**\\n**Description:** An app that allows users to create and share interactive stories. Users can input story ideas, and the app uses Mistral APIs to generate branching narratives, character development, and plot twists.\\n\\n**Revenue Model:**\\n- **Subscription Plans:** Offer monthly or annual subscriptions for access to advanced storytelling features, unlimited story creation, and community sharing.\\n- **In-App Purchases:** Sell additional story elements, such as custom characters, settings, and special effects.\\n- **Advertising:** Display targeted ads within the app, with options for users to pay for an ad-free experience.\\n\\nThese ideas leverage the capabilities of Mistral APIs to provide unique and valuable services to users, while also offering multiple revenue streams to ensure financial sustainability.\", tool_calls=None, prefix=False, role='assistant'), finish_reason='stop')]\n"
     ]
    }
   ],
   "source": [
    "import os\n",
    "from mistralai import Mistral\n",
    "\n",
    "api_key = os.environ[\"MISTRAL_API_KEY\"]\n",
    "model = \"mistral-large-latest\"\n",
    "\n",
    "client = Mistral(api_key=api_key)\n",
    "\n",
    "chat_response = client.chat.complete(\n",
    "    model= model,\n",
    "    messages = [\n",
    "        {\n",
    "            \"role\": \"user\",\n",
    "            \"content\": \"Give me 3 ideas for apps that can generate revenue that I could build with MISTRAL apis\",\n",
    "        },\n",
    "    ]\n",
    ")\n",
    "print(chat_response.choices[0].message.content)\n",
    "print(chat_response)"
   ]
  },
  {
   "cell_type": "raw",
   "id": "b299c0ef-6a39-4618-ac2d-d59e8dc19512",
   "metadata": {},
   "source": [
    "id='df971b31cbb14ad386c37cbcdf6a63b0' \n",
    "\n",
    "object='chat.completion' \n",
    "\n",
    "model='mistral-large-latest' \n",
    "\n",
    "usage=UsageInfo(prompt_tokens=24, completion_tokens=530, total_tokens=554)\n",
    "\n",
    " created=1741875072 \n",
    " \n",
    " choices=[ChatCompletionChoice(index=0, \n",
    " message=AssistantMessage(content=\"Sure, here are three app ideas that leverage Mistral APIs and have the potential to generate revenue:\\n\\n### 1. **AI-Powered Content Creation Assistant**\\n**Description:** An app that helps users create high-quality content such as blog posts, articles, social media posts, and more. The app uses Mistral APIs to generate text based on user prompts, ensuring that the content is engaging and optimized for SEO.\\n\\n**Revenue Model:**\\n- **Subscription Plans:** Offer different tiers of subscription plans with varying levels of access to features and content generation limits.\\n- **Premium Features:** Allow users to purchase add-ons like advanced SEO tools, content optimization suggestions, and personalized writing styles.\\n- **Partnerships:** Collaborate with content marketing agencies and brands to offer bulk discounts and specialized content packages.\\n\\n### 2. **Personalized Learning Companion**\\n**Description:** An educational app that provides personalized learning experiences for students. The app can generate study materials, summaries, and practice questions using Mistral APIs, tailored to the user's learning style and pace.\\n\\n**Revenue Model:**\\n- **Freemium Model:** Offer basic features for free and charge for premium content, advanced analytics, and personalized learning plans.\\n- **In-App Purchases:** Sell additional study materials, practice tests, and one-on-one tutoring sessions.\\n- **Educational Institutions:** Partner with schools and universities to offer the app as a supplementary learning tool, with a subscription fee per student.\\n\\n### 3. **Interactive Storytelling Platform**\\n**Description:** An app that allows users to create and share interactive stories. Users can input story ideas, and the app uses Mistral APIs to generate branching narratives, character development, and plot twists.\\n\\n**Revenue Model:**\\n- **Subscription Plans:** Offer monthly or annual subscriptions for access to advanced storytelling features, unlimited story creation, and community sharing.\\n- **In-App Purchases:** Sell additional story elements, such as custom characters, settings, and special effects.\\n- **Advertising:** Display targeted ads within the app, with options for users to pay for an ad-free experience.\\n\\nThese ideas leverage the capabilities of Mistral APIs to provide unique and valuable services to users, while also offering multiple revenue streams to ensure financial sustainability.\", \n",
    " \n",
    " tool_calls=None, \n",
    " prefix=False, \n",
    " role='assistant'), \n",
    " finish_reason='stop')]"
   ]
  },
  {
   "cell_type": "code",
   "execution_count": 4,
   "id": "1f0d81b3-eef7-47c8-862b-415bbdff3f82",
   "metadata": {},
   "outputs": [
    {
     "name": "stdout",
     "output_type": "stream",
     "text": [
      "Collecting mistralai\n",
      "  Downloading mistralai-1.5.0-py3-none-any.whl.metadata (29 kB)\n",
      "Collecting eval-type-backport>=0.2.0 (from mistralai)\n",
      "  Downloading eval_type_backport-0.2.2-py3-none-any.whl.metadata (2.2 kB)\n",
      "Requirement already satisfied: httpx>=0.27.0 in c:\\users\\pandiyan\\anaconda3\\lib\\site-packages (from mistralai) (0.27.0)\n",
      "Collecting jsonpath-python>=1.0.6 (from mistralai)\n",
      "  Downloading jsonpath_python-1.0.6-py3-none-any.whl.metadata (12 kB)\n",
      "Collecting pydantic>=2.9.0 (from mistralai)\n",
      "  Downloading pydantic-2.10.6-py3-none-any.whl.metadata (30 kB)\n",
      "Requirement already satisfied: python-dateutil>=2.8.2 in c:\\users\\pandiyan\\anaconda3\\lib\\site-packages (from mistralai) (2.9.0.post0)\n",
      "Collecting typing-inspect>=0.9.0 (from mistralai)\n",
      "  Downloading typing_inspect-0.9.0-py3-none-any.whl.metadata (1.5 kB)\n",
      "Requirement already satisfied: anyio in c:\\users\\pandiyan\\anaconda3\\lib\\site-packages (from httpx>=0.27.0->mistralai) (4.2.0)\n",
      "Requirement already satisfied: certifi in c:\\users\\pandiyan\\anaconda3\\lib\\site-packages (from httpx>=0.27.0->mistralai) (2024.8.30)\n",
      "Requirement already satisfied: httpcore==1.* in c:\\users\\pandiyan\\anaconda3\\lib\\site-packages (from httpx>=0.27.0->mistralai) (1.0.2)\n",
      "Requirement already satisfied: idna in c:\\users\\pandiyan\\anaconda3\\lib\\site-packages (from httpx>=0.27.0->mistralai) (3.7)\n",
      "Requirement already satisfied: sniffio in c:\\users\\pandiyan\\anaconda3\\lib\\site-packages (from httpx>=0.27.0->mistralai) (1.3.0)\n",
      "Requirement already satisfied: h11<0.15,>=0.13 in c:\\users\\pandiyan\\anaconda3\\lib\\site-packages (from httpcore==1.*->httpx>=0.27.0->mistralai) (0.14.0)\n",
      "Requirement already satisfied: annotated-types>=0.6.0 in c:\\users\\pandiyan\\anaconda3\\lib\\site-packages (from pydantic>=2.9.0->mistralai) (0.6.0)\n",
      "Collecting pydantic-core==2.27.2 (from pydantic>=2.9.0->mistralai)\n",
      "  Downloading pydantic_core-2.27.2-cp312-cp312-win_amd64.whl.metadata (6.7 kB)\n",
      "Collecting typing-extensions>=4.12.2 (from pydantic>=2.9.0->mistralai)\n",
      "  Downloading typing_extensions-4.12.2-py3-none-any.whl.metadata (3.0 kB)\n",
      "Requirement already satisfied: six>=1.5 in c:\\users\\pandiyan\\anaconda3\\lib\\site-packages (from python-dateutil>=2.8.2->mistralai) (1.16.0)\n",
      "Requirement already satisfied: mypy-extensions>=0.3.0 in c:\\users\\pandiyan\\anaconda3\\lib\\site-packages (from typing-inspect>=0.9.0->mistralai) (1.0.0)\n",
      "Downloading mistralai-1.5.0-py3-none-any.whl (271 kB)\n",
      "Downloading eval_type_backport-0.2.2-py3-none-any.whl (5.8 kB)\n",
      "Downloading jsonpath_python-1.0.6-py3-none-any.whl (7.6 kB)\n",
      "Downloading pydantic-2.10.6-py3-none-any.whl (431 kB)\n",
      "Downloading pydantic_core-2.27.2-cp312-cp312-win_amd64.whl (2.0 MB)\n",
      "   ---------------------------------------- 0.0/2.0 MB ? eta -:--:--\n",
      "   ---------------------------------------- 2.0/2.0 MB 27.9 MB/s eta 0:00:00\n",
      "Downloading typing_inspect-0.9.0-py3-none-any.whl (8.8 kB)\n",
      "Downloading typing_extensions-4.12.2-py3-none-any.whl (37 kB)\n",
      "Installing collected packages: typing-extensions, jsonpath-python, eval-type-backport, typing-inspect, pydantic-core, pydantic, mistralai\n",
      "  Attempting uninstall: typing-extensions\n",
      "    Found existing installation: typing_extensions 4.11.0\n",
      "    Uninstalling typing_extensions-4.11.0:\n",
      "      Successfully uninstalled typing_extensions-4.11.0\n",
      "  Attempting uninstall: pydantic-core\n",
      "    Found existing installation: pydantic_core 2.20.1\n",
      "    Uninstalling pydantic_core-2.20.1:\n",
      "      Successfully uninstalled pydantic_core-2.20.1\n",
      "  Attempting uninstall: pydantic\n",
      "    Found existing installation: pydantic 2.8.2\n",
      "    Uninstalling pydantic-2.8.2:\n",
      "      Successfully uninstalled pydantic-2.8.2\n",
      "Successfully installed eval-type-backport-0.2.2 jsonpath-python-1.0.6 mistralai-1.5.0 pydantic-2.10.6 pydantic-core-2.27.2 typing-extensions-4.12.2 typing-inspect-0.9.0\n",
      "Note: you may need to restart the kernel to use updated packages.\n"
     ]
    },
    {
     "name": "stderr",
     "output_type": "stream",
     "text": [
      "  WARNING: Failed to remove contents in a temporary directory 'C:\\Users\\Pandiyan\\anaconda3\\Lib\\site-packages\\~ydantic_core'.\n",
      "  You can safely remove it manually.\n"
     ]
    }
   ],
   "source": [
    "#pip install mistralai"
   ]
  },
  {
   "cell_type": "code",
   "execution_count": null,
   "id": "69442b9b-3c68-4403-9c0d-a720ccd1425c",
   "metadata": {},
   "outputs": [],
   "source": []
  }
 ],
 "metadata": {
  "kernelspec": {
   "display_name": "Python 3 (ipykernel)",
   "language": "python",
   "name": "python3"
  },
  "language_info": {
   "codemirror_mode": {
    "name": "ipython",
    "version": 3
   },
   "file_extension": ".py",
   "mimetype": "text/x-python",
   "name": "python",
   "nbconvert_exporter": "python",
   "pygments_lexer": "ipython3",
   "version": "3.12.7"
  }
 },
 "nbformat": 4,
 "nbformat_minor": 5
}
